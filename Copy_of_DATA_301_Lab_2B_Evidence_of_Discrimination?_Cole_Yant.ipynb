{
  "nbformat": 4,
  "nbformat_minor": 0,
  "metadata": {
    "kernelspec": {
      "display_name": "Python 3",
      "language": "python",
      "name": "python3"
    },
    "language_info": {
      "codemirror_mode": {
        "name": "ipython",
        "version": 3
      },
      "file_extension": ".py",
      "mimetype": "text/x-python",
      "name": "python",
      "nbconvert_exporter": "python",
      "pygments_lexer": "ipython3",
      "version": "3.6.4"
    },
    "colab": {
      "name": "Copy of DATA 301 Lab 2B. Evidence of Discrimination? - Cole Yant",
      "provenance": [],
      "collapsed_sections": [],
      "include_colab_link": true
    }
  },
  "cells": [
    {
      "cell_type": "markdown",
      "metadata": {
        "id": "view-in-github",
        "colab_type": "text"
      },
      "source": [
        "<a href=\"https://colab.research.google.com/github/yanter5/lab-2-phase-2-yanter5/blob/main/Copy_of_DATA_301_Lab_2B_Evidence_of_Discrimination%3F_Cole_Yant.ipynb\" target=\"_parent\"><img src=\"https://colab.research.google.com/assets/colab-badge.svg\" alt=\"Open In Colab\"/></a>"
      ]
    },
    {
      "cell_type": "markdown",
      "metadata": {
        "id": "3GRr9ej57rEW"
      },
      "source": [
        "# Evidence of Discrimination?\n",
        "\n",
        "The Department of Developmental Services (DDS) in California is responsible for allocating funds to support over 250,000 developmentally-disabled residents. The data set `https://dlsun.github.io/pods/data/ca_dds_expenditures.csv` contains data about 1,000 of these residents. The data comes from a discrimination lawsuit which alleged that California's Department of Developmental Services (DDS) privileged white (non-Hispanic) residents over Hispanic residents in allocating funds. We will focus on comparing the allocation of funds (i.e., expenditures) for these two ethnicities only, although there are other ethnicities in this data set.\n",
        "\n",
        "There are 6 variables in this data set:\n",
        "\n",
        "- Id:  5-digit, unique identification code for each consumer (similar to a social security number and used for identification purposes)  \n",
        "- Age Cohort:  Binned age variable represented as six age cohorts (0-5, 6-12, 13-17, 18-21, 22-50, and 51+)\n",
        "- Age:  Unbinned age variable\n",
        "- Gender:  Male or Female\n",
        "- Expenditures:  Dollar amount of annual expenditures spent on each consumer\n",
        "- Ethnicity:  Eight ethnic groups (American Indian, Asian, Black, Hispanic, Multi-race, Native Hawaiian, Other, and White non-Hispanic)"
      ]
    },
    {
      "cell_type": "markdown",
      "metadata": {
        "id": "pBrvxdVd7rEY"
      },
      "source": [
        "# Question 1\n",
        "\n",
        "Read in the data set. Make a graphic that compares the _average_ expenditures by the DDS on Hispanic residents and white (non-Hispanic) residents. Comment on what you see."
      ]
    },
    {
      "cell_type": "code",
      "metadata": {
        "id": "HPu1DTOY7rEa",
        "colab": {
          "base_uri": "https://localhost:8080/",
          "height": 281
        },
        "outputId": "5ffd2214-5fd5-4fde-c481-5b9e576efd18"
      },
      "source": [
        "import pandas as pd\n",
        "\n",
        "dds = pd.read_csv('https://dlsun.github.io/pods/data/ca_dds_expenditures.csv')\n",
        "dds = dds.set_index('Id')\n",
        "dds_white = dds.loc[(dds['Ethnicity'] == 'White not Hispanic')|(dds['Ethnicity'] =='Hispanic')]\n",
        "exp_plot = dds_white.groupby('Ethnicity')['Expenditures'].mean().plot.barh(title = 'Mean Expenditures by DDS on Hispanic and Non-Hispanic White People', xlim=(0, 30000))\n",
        "for p in exp_plot.patches:\n",
        "  exp_plot.annotate(\"%.2f\" % p.get_width(), (p.get_x() + p.get_width(), p.get_y()), xytext=(5, 25), textcoords='offset points')"
      ],
      "execution_count": null,
      "outputs": [
        {
          "output_type": "display_data",
          "data": {
            "image/png": "[encoded data removed]",
            "text/plain": [
              "<Figure size 432x288 with 1 Axes>"
            ]
          },
          "metadata": {
            "needs_background": "light"
          }
        }
      ]
    },
    {
      "cell_type": "markdown",
      "metadata": {
        "id": "FvfRcog37rEf"
      },
      "source": [
        "Non-hispanic white people seem to get much higher funding on average than their hispanic counterparts. Whites get \\$24607.55 on average, while Hispanics only get $11065.57 on average."
      ]
    },
    {
      "cell_type": "markdown",
      "metadata": {
        "id": "CmxE7M3o7rEg"
      },
      "source": [
        "# Question 2\n",
        "\n",
        "Now, calculate the average expenditures by ethnicity and age cohort. Make a graphic that compares the average expenditure on Hispanic residents and white (non-Hispanic) residents, _within each age cohort_. \n",
        "\n",
        "Comment on what you see. How do these results appear to contradict the results you obtained in Question 1?"
      ]
    },
    {
      "cell_type": "code",
      "metadata": {
        "id": "u_J1LRI37rEh",
        "colab": {
          "base_uri": "https://localhost:8080/",
          "height": 383
        },
        "outputId": "8d60391e-cf71-4206-b416-86451cfdeb21"
      },
      "source": [
        "from pandas.api.types import CategoricalDtype\n",
        "\n",
        "cat_age_order = CategoricalDtype(\n",
        "    ['0 to 5', '6 to 12', '13 to 17', '18 to 21', '22 to 50', '51+'], \n",
        "    ordered=True\n",
        ")\n",
        "\n",
        "dds_white['Age Cohort_cat'] = dds_white['Age Cohort'].astype(cat_age_order)\n",
        "\n",
        "dds_exp_unstack = dds_white.groupby(['Age Cohort_cat', 'Ethnicity'])['Expenditures'].mean().unstack('Ethnicity').plot.barh(xlim = (0, 70000),title = 'Mean Expenditures (in $) on Hispanic and Non-Hispanic White People')\n",
        "for p in dds_exp_unstack.patches:\n",
        "  dds_exp_unstack.annotate(\"%.2f\" % p.get_width(), (p.get_x() + p.get_width(), p.get_y()), xytext=(5, 2), textcoords='offset points')"
      ],
      "execution_count": null,
      "outputs": [
        {
          "output_type": "stream",
          "name": "stderr",
          "text": [
            "/usr/local/lib/python3.7/dist-packages/ipykernel_launcher.py:8: SettingWithCopyWarning: \n",
            "A value is trying to be set on a copy of a slice from a DataFrame.\n",
            "Try using .loc[row_indexer,col_indexer] = value instead\n",
            "\n",
            "See the caveats in the documentation: https://pandas.pydata.org/pandas-docs/stable/user_guide/indexing.html#returning-a-view-versus-a-copy\n",
            "  \n"
          ]
        },
        {
          "output_type": "display_data",
          "data": {
            "image/png": "[encoded data removed]",
            "text/plain": [
              "<Figure size 432x288 with 1 Axes>"
            ]
          },
          "metadata": {
            "needs_background": "light"
          }
        }
      ]
    },
    {
      "cell_type": "markdown",
      "metadata": {
        "id": "CFriAmRB7rEl"
      },
      "source": [
        "These results seem to indicate that Hispanics receive about the same, if not more, funds than Whites. This contradict the findings in the last question because white people seemed to receive aid at such a higher number than hispanic people."
      ]
    },
    {
      "cell_type": "markdown",
      "metadata": {
        "id": "vNJHIPO77rEm"
      },
      "source": [
        "# Question 3\n",
        "\n",
        "Can you explain the discrepancy between the two analyses you conducted above (i.e., Questions 1 and 2)? Try to tell a complete story that interweaves tables, graphics, and explanation.\n",
        "\n",
        "_Hint:_ You might want to consider looking at:\n",
        "\n",
        "- the distributions of ages of Hispanics and whites\n",
        "- the average expenditure as a function of age"
      ]
    },
    {
      "cell_type": "code",
      "source": [
        "joint_agec_eth = pd.crosstab(dds_white['Age Cohort_cat'], dds_white['Ethnicity'])\n",
        "cond_agec_eth = joint_agec_eth.sum(axis = 0)\n",
        "joint_agec_eth.divide(cond_agec_eth, axis = 1) "
      ],
      "metadata": {
        "colab": {
          "base_uri": "https://localhost:8080/",
          "height": 266
        },
        "id": "1jF4IKzfViiN",
        "outputId": "76b7ea68-a9d3-475e-d7d0-64d590bd5d1c"
      },
      "execution_count": null,
      "outputs": [
        {
          "output_type": "execute_result",
          "data": {
            "text/html": [
              "\n",
              "  <div id=\"df-94a5e3d5-2042-44e8-97ea-d5f877b188ad\">\n",
              "    <div class=\"colab-df-container\">\n",
              "      <div>\n",
              "<style scoped>\n",
              "    .dataframe tbody tr th:only-of-type {\n",
              "        vertical-align: middle;\n",
              "    }\n",
              "\n",
              "    .dataframe tbody tr th {\n",
              "        vertical-align: top;\n",
              "    }\n",
              "\n",
              "    .dataframe thead th {\n",
              "        text-align: right;\n",
              "    }\n",
              "</style>\n",
              "<table border=\"1\" class=\"dataframe\">\n",
              "  <thead>\n",
              "    <tr style=\"text-align: right;\">\n",
              "      <th>Ethnicity</th>\n",
              "      <th>Hispanic</th>\n",
              "      <th>White not Hispanic</th>\n",
              "    </tr>\n",
              "    <tr>\n",
              "      <th>Age Cohort_cat</th>\n",
              "      <th></th>\n",
              "      <th></th>\n",
              "    </tr>\n",
              "  </thead>\n",
              "  <tbody>\n",
              "    <tr>\n",
              "      <th>0 to 5</th>\n",
              "      <td>0.117021</td>\n",
              "      <td>0.049875</td>\n",
              "    </tr>\n",
              "    <tr>\n",
              "      <th>6 to 12</th>\n",
              "      <td>0.242021</td>\n",
              "      <td>0.114713</td>\n",
              "    </tr>\n",
              "    <tr>\n",
              "      <th>13 to 17</th>\n",
              "      <td>0.273936</td>\n",
              "      <td>0.167082</td>\n",
              "    </tr>\n",
              "    <tr>\n",
              "      <th>18 to 21</th>\n",
              "      <td>0.207447</td>\n",
              "      <td>0.172070</td>\n",
              "    </tr>\n",
              "    <tr>\n",
              "      <th>22 to 50</th>\n",
              "      <td>0.114362</td>\n",
              "      <td>0.331671</td>\n",
              "    </tr>\n",
              "    <tr>\n",
              "      <th>51+</th>\n",
              "      <td>0.045213</td>\n",
              "      <td>0.164589</td>\n",
              "    </tr>\n",
              "  </tbody>\n",
              "</table>\n",
              "</div>\n",
              "      <button class=\"colab-df-convert\" onclick=\"convertToInteractive('df-94a5e3d5-2042-44e8-97ea-d5f877b188ad')\"\n",
              "              title=\"Convert this dataframe to an interactive table.\"\n",
              "              style=\"display:none;\">\n",
              "        \n",
              "  <svg xmlns=\"http://www.w3.org/2000/svg\" height=\"24px\"viewBox=\"0 0 24 24\"\n",
              "       width=\"24px\">\n",
              "    <path d=\"M0 0h24v24H0V0z\" fill=\"none\"/>\n",
              "    <path d=\"M18.56 5.44l.94 2.06.94-2.06 2.06-.94-2.06-.94-.94-2.06-.94 2.06-2.06.94zm-11 1L8.5 8.5l.94-2.06 2.06-.94-2.06-.94L8.5 2.5l-.94 2.06-2.06.94zm10 10l.94 2.06.94-2.06 2.06-.94-2.06-.94-.94-2.06-.94 2.06-2.06.94z\"/><path d=\"M17.41 7.96l-1.37-1.37c-.4-.4-.92-.59-1.43-.59-.52 0-1.04.2-1.43.59L10.3 9.45l-7.72 7.72c-.78.78-.78 2.05 0 2.83L4 21.41c.39.39.9.59 1.41.59.51 0 1.02-.2 1.41-.59l7.78-7.78 2.81-2.81c.8-.78.8-2.07 0-2.86zM5.41 20L4 18.59l7.72-7.72 1.47 1.35L5.41 20z\"/>\n",
              "  </svg>\n",
              "      </button>\n",
              "      \n",
              "  <style>\n",
              "    .colab-df-container {\n",
              "      display:flex;\n",
              "      flex-wrap:wrap;\n",
              "      gap: 12px;\n",
              "    }\n",
              "\n",
              "    .colab-df-convert {\n",
              "      background-color: #E8F0FE;\n",
              "      border: none;\n",
              "      border-radius: 50%;\n",
              "      cursor: pointer;\n",
              "      display: none;\n",
              "      fill: #1967D2;\n",
              "      height: 32px;\n",
              "      padding: 0 0 0 0;\n",
              "      width: 32px;\n",
              "    }\n",
              "\n",
              "    .colab-df-convert:hover {\n",
              "      background-color: #E2EBFA;\n",
              "      box-shadow: 0px 1px 2px rgba(60, 64, 67, 0.3), 0px 1px 3px 1px rgba(60, 64, 67, 0.15);\n",
              "      fill: #174EA6;\n",
              "    }\n",
              "\n",
              "    [theme=dark] .colab-df-convert {\n",
              "      background-color: #3B4455;\n",
              "      fill: #D2E3FC;\n",
              "    }\n",
              "\n",
              "    [theme=dark] .colab-df-convert:hover {\n",
              "      background-color: #434B5C;\n",
              "      box-shadow: 0px 1px 3px 1px rgba(0, 0, 0, 0.15);\n",
              "      filter: drop-shadow(0px 1px 2px rgba(0, 0, 0, 0.3));\n",
              "      fill: #FFFFFF;\n",
              "    }\n",
              "  </style>\n",
              "\n",
              "      <script>\n",
              "        const buttonEl =\n",
              "          document.querySelector('#df-94a5e3d5-2042-44e8-97ea-d5f877b188ad button.colab-df-convert');\n",
              "        buttonEl.style.display =\n",
              "          google.colab.kernel.accessAllowed ? 'block' : 'none';\n",
              "\n",
              "        async function convertToInteractive(key) {\n",
              "          const element = document.querySelector('#df-94a5e3d5-2042-44e8-97ea-d5f877b188ad');\n",
              "          const dataTable =\n",
              "            await google.colab.kernel.invokeFunction('convertToInteractive',\n",
              "                                                     [key], {});\n",
              "          if (!dataTable) return;\n",
              "\n",
              "          const docLinkHtml = 'Like what you see? Visit the ' +\n",
              "            '<a target=\"_blank\" href=https://colab.research.google.com/notebooks/data_table.ipynb>data table notebook</a>'\n",
              "            + ' to learn more about interactive tables.';\n",
              "          element.innerHTML = '';\n",
              "          dataTable['output_type'] = 'display_data';\n",
              "          await google.colab.output.renderOutput(dataTable, element);\n",
              "          const docLink = document.createElement('div');\n",
              "          docLink.innerHTML = docLinkHtml;\n",
              "          element.appendChild(docLink);\n",
              "        }\n",
              "      </script>\n",
              "    </div>\n",
              "  </div>\n",
              "  "
            ],
            "text/plain": [
              "Ethnicity       Hispanic  White not Hispanic\n",
              "Age Cohort_cat                              \n",
              "0 to 5          0.117021            0.049875\n",
              "6 to 12         0.242021            0.114713\n",
              "13 to 17        0.273936            0.167082\n",
              "18 to 21        0.207447            0.172070\n",
              "22 to 50        0.114362            0.331671\n",
              "51+             0.045213            0.164589"
            ]
          },
          "metadata": {},
          "execution_count": 3
        }
      ]
    },
    {
      "cell_type": "markdown",
      "source": [
        "Looking at the marginal probabilities of Age Cohort based on ethnicity, it looks like there are some major differences in age distribution between the two populations of ethnicity here. Let's visualize this relationship."
      ],
      "metadata": {
        "id": "KiRuG2k3Xo6D"
      }
    },
    {
      "cell_type": "code",
      "metadata": {
        "id": "mo4aLinP7rEn",
        "colab": {
          "base_uri": "https://localhost:8080/",
          "height": 281
        },
        "outputId": "945384be-b625-41f0-a08d-8962c87f387c"
      },
      "source": [
        "for eth in dds_white['Ethnicity'].unique():\n",
        "      dds_white[dds_white[\"Ethnicity\"] == eth][\"Age\"].plot.hist(\n",
        "        label=eth,\n",
        "        density=True,\n",
        "        alpha=0.5,\n",
        "        legend=True,\n",
        "        title= 'Comparison of age distributions between white and hispanic aid recipients'\n",
        "    )"
      ],
      "execution_count": null,
      "outputs": [
        {
          "output_type": "display_data",
          "data": {
            "image/png": "[encoded data removed]",
            "text/plain": [
              "<Figure size 432x288 with 1 Axes>"
            ]
          },
          "metadata": {
            "needs_background": "light"
          }
        }
      ]
    },
    {
      "cell_type": "markdown",
      "source": [
        "It appears that hispanic aid recipients tend to be much younger than white aid recipients. This may be a contributing factor to the observed discrepancy if age is related to funding received. "
      ],
      "metadata": {
        "id": "JfMQ2K4iNoqM"
      }
    },
    {
      "cell_type": "code",
      "source": [
        "dds_age_exp = dds_white.groupby('Age Cohort_cat')['Expenditures'].mean().plot.barh(xlim = (0, 70000), title = 'Mean expenditures by age cohort', xlabel='Age Cohort')\n",
        "for p in dds_age_exp.patches:\n",
        "  dds_age_exp.annotate(\"%.2f\" % p.get_width(), (p.get_x() + p.get_width(), p.get_y()), xytext=(5, 5), textcoords='offset points')\n",
        "dds_age_exp.set_xlabel('Mean Expenditure ($)')"
      ],
      "metadata": {
        "id": "ZDKusYJHpiwf",
        "colab": {
          "base_uri": "https://localhost:8080/",
          "height": 312
        },
        "outputId": "3fd2ba4e-13fb-413c-bde5-16a96b9e2ff0"
      },
      "execution_count": null,
      "outputs": [
        {
          "output_type": "execute_result",
          "data": {
            "text/plain": [
              "Text(0.5, 0, 'Mean Expenditure ($)')"
            ]
          },
          "metadata": {},
          "execution_count": 5
        },
        {
          "output_type": "display_data",
          "data": {
            "image/png": "[encoded data removed]",
            "text/plain": [
              "<Figure size 432x288 with 1 Axes>"
            ]
          },
          "metadata": {
            "needs_background": "light"
          }
        }
      ]
    },
    {
      "cell_type": "markdown",
      "source": [
        "The aid given does get larger, on average, as age increases. Putting this all together, the discrepancy in spending on hispanic and non-hispanic white people is likely due to differences in ages in the population. Since the average ages of white people tend to be larger on average, the average expenditures on white people would also be expected to be larger.\n",
        "\n",
        "With all this being said, we cannot fully rule out the possibility that the DDS intentionally gives out more money to white people than hispanic people. It is possible that the institution knows that there are more old people amongst the white population, and they decide to award old people with more money because they are white. This is unlikely, however, and not something we can detect with data."
      ],
      "metadata": {
        "id": "SOhwqgvQVV9f"
      }
    },
    {
      "cell_type": "markdown",
      "metadata": {
        "id": "4JdcqKm57rEr"
      },
      "source": [
        "## Submission Instructions\n",
        "\n",
        "- Copy this notebook to your own Drive, if you have not already.\n",
        "- Restart this notebook and run the cells from beginning to end. \n",
        "  - Go to Runtime > Restart and Run All.\n",
        "- Rename this notebook by clicking on \"DATA 301 Lab 2B - YOUR NAME HERE\" at the very top of this page. Replace \"YOUR NAMES HERE\" with the first and last names of you (and your partners, for Phase 2).\n",
        "- Get the link to your notebook:\n",
        "  - Click on \"Share\" at the top-right. \n",
        "  - Change the settings to \"Anyone with the link can view\". \n",
        "  - Copy the sharing link into Canvas."
      ]
    }
  ]
}